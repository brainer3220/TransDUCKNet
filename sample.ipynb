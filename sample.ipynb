{
 "cells": [
  {
   "cell_type": "code",
   "execution_count": 2,
   "id": "initial_id",
   "metadata": {
    "collapsed": true
   },
   "outputs": [],
   "source": [
    "from model.TransDUCK_NET import DUCKNet"
   ]
  },
  {
   "cell_type": "code",
   "execution_count": 7,
   "id": "8ebfc194",
   "metadata": {},
   "outputs": [
    {
     "data": {
      "text/plain": [
       "DUCKNet(\n",
       "  (conv1): Conv2d(3, 128, kernel_size=(2, 2), stride=(2, 2), padding=(1, 1))\n",
       "  (conv2): Conv2d(128, 256, kernel_size=(2, 2), stride=(2, 2), padding=(1, 1))\n",
       "  (conv3): Conv2d(256, 512, kernel_size=(2, 2), stride=(2, 2), padding=(1, 1))\n",
       "  (conv4): Conv2d(512, 1024, kernel_size=(2, 2), stride=(2, 2), padding=(1, 1))\n",
       "  (conv5): Conv2d(1024, 2048, kernel_size=(2, 2), stride=(2, 2), padding=(1, 1))\n",
       "  (conv_block1): ConvBlock2D()\n",
       "  (conv_block2): ConvBlock2D()\n",
       "  (conv_block3): ConvBlock2D()\n",
       "  (conv_block4): ConvBlock2D()\n",
       "  (conv_block5): ConvBlock2D()\n",
       "  (conv_block6): ConvBlock2D()\n",
       "  (conv_block7): ConvBlock2D()\n",
       "  (upconv4): ConvTranspose2d(1024, 512, kernel_size=(2, 2), stride=(2, 2))\n",
       "  (conv_block8): ConvBlock2D()\n",
       "  (upconv3): ConvTranspose2d(512, 256, kernel_size=(2, 2), stride=(2, 2))\n",
       "  (conv_block9): ConvBlock2D()\n",
       "  (upconv2): ConvTranspose2d(256, 128, kernel_size=(2, 2), stride=(2, 2))\n",
       "  (conv_block10): ConvBlock2D()\n",
       "  (upconv1): ConvTranspose2d(128, 64, kernel_size=(2, 2), stride=(2, 2))\n",
       "  (conv_block11): ConvBlock2D()\n",
       "  (upconv0): ConvTranspose2d(64, 64, kernel_size=(2, 2), stride=(2, 2))\n",
       "  (conv_block12): ConvBlock2D()\n",
       "  (final_conv): Conv2d(64, 100, kernel_size=(1, 1), stride=(1, 1))\n",
       ")"
      ]
     },
     "execution_count": 7,
     "metadata": {},
     "output_type": "execute_result"
    }
   ],
   "source": [
    "model = DUCKNet(input_channels=3, out_classes=100, starting_filters=64)\n",
    "model"
   ]
  },
  {
   "cell_type": "code",
   "execution_count": null,
   "id": "b9016e5f",
   "metadata": {},
   "outputs": [],
   "source": []
  }
 ],
 "metadata": {
  "kernelspec": {
   "display_name": "Python 3",
   "language": "python",
   "name": "python3"
  },
  "language_info": {
   "codemirror_mode": {
    "name": "ipython",
    "version": 3
   },
   "file_extension": ".py",
   "mimetype": "text/x-python",
   "name": "python",
   "nbconvert_exporter": "python",
   "pygments_lexer": "ipython3",
   "version": "3.8.19"
  }
 },
 "nbformat": 4,
 "nbformat_minor": 5
}
